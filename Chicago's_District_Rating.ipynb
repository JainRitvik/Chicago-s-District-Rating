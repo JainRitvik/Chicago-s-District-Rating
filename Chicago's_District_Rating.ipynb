{
  "cells": [
    {
      "cell_type": "markdown",
      "metadata": {
        "id": "Eyib4K03aSPh"
      },
      "source": [
        "For this Project i've used these three tables populated with a subset of the whole datasets.\n",
        "\n",
        "\n",
        "- <a href=\"https://cf-courses-data.s3.us.cloud-object-storage.appdomain.cloud/IBMDeveloperSkillsNetwork-DB0201EN-SkillsNetwork/labs/FinalModule_Coursera_V5/data/ChicagoCensusData.csv\" target=\"_blank\">Chicago Census Data</a>\n",
        "\n",
        "- <a href=\"https://cf-courses-data.s3.us.cloud-object-storage.appdomain.cloud/IBMDeveloperSkillsNetwork-DB0201EN-SkillsNetwork/labs/FinalModule_Coursera_V5/data/ChicagoPublicSchools.csv\" target=\"_blank\">Chicago Public Schools</a>\n",
        "\n",
        "- <a href=\"https://cf-courses-data.s3.us.cloud-object-storage.appdomain.cloud/IBMDeveloperSkillsNetwork-DB0201EN-SkillsNetwork/labs/FinalModule_Coursera_V5/data/ChicagoCrimeData.csv\" target=\"_blank\">Chicago Crime Data</a>\n",
        "\n"
      ]
    },
    {
      "cell_type": "markdown",
      "metadata": {
        "id": "p9fbVm9VaSPj"
      },
      "source": [
        "### Connecting to the database\n",
        "\n",
        "Loading SQL extension and establishing a connection to the database\n",
        "\n",
        "\n"
      ]
    },
    {
      "cell_type": "code",
      "execution_count": null,
      "metadata": {
        "id": "6xnYbdmyaSPj"
      },
      "outputs": [],
      "source": [
        "# !pip install --force-reinstall ibm_db==3.1.0 ibm_db_sa==0.3.3\n",
        "# Ensure we don't load_ext with sqlalchemy>=1.4\n",
        "# !pip uninstall sqlalchemy==1.4 -y && pip install sqlalchemy==1.3.24\n",
        "# !pip install ipython-sql"
      ]
    },
    {
      "cell_type": "code",
      "execution_count": null,
      "metadata": {
        "id": "WoWSwxyGaSPk"
      },
      "outputs": [],
      "source": [
        "%load_ext sql"
      ]
    },
    {
      "cell_type": "code",
      "execution_count": null,
      "metadata": {
        "id": "43rHDewmaSPk"
      },
      "outputs": [],
      "source": [
        "# Connection string\n",
        "%sql ibm_db_sa://tjk21224:72q9rrWjA2GgdnxX@19af6446-6171-4641-8aba-9dcff8e1b6ff.c1ogj3sd0tgtu0lqde00.databases.appdomain.cloud:30699/bludb?security=SSL"
      ]
    },
    {
      "cell_type": "markdown",
      "metadata": {
        "id": "jE_qozLqaSPl"
      },
      "source": [
        "\n",
        "\n",
        "\n",
        "\n",
        "##### Finding the total number of crimes recorded in the CRIME table.\n"
      ]
    },
    {
      "cell_type": "code",
      "execution_count": null,
      "metadata": {
        "id": "y6Qum4pRaSPl",
        "outputId": "24b7b5f6-2c33-4661-a8d7-e2f6ba7ae1e5"
      },
      "outputs": [
        {
          "name": "stdout",
          "output_type": "stream",
          "text": [
            "*  ibm_db_sa://tjk21224:***@19af6446-6171-4641-8aba-9dcff8e1b6ff.c1ogj3sd0tgtu0lqde00.databases.appdomain.cloud:30699/bludb\n",
            "Done.\n"
          ]
        },
        {
          "data": {
            "text/html": [
              "<table>\n",
              "    <tr>\n",
              "        <th>1</th>\n",
              "    </tr>\n",
              "    <tr>\n",
              "        <td>533</td>\n",
              "    </tr>\n",
              "</table>"
            ],
            "text/plain": [
              "[(533,)]"
            ]
          },
          "execution_count": 7,
          "metadata": {},
          "output_type": "execute_result"
        }
      ],
      "source": [
        "%sql select count(*) from CHICAGO_CRIME_DATA;"
      ]
    },
    {
      "cell_type": "markdown",
      "metadata": {
        "id": "09Q2SkSgaSPm"
      },
      "source": [
        "\n",
        "\n",
        "##### Listing community areas with per capita income less than 11000.\n"
      ]
    },
    {
      "cell_type": "code",
      "execution_count": null,
      "metadata": {
        "id": "eRJJhc6IaSPn",
        "outputId": "a2c21d83-b02b-49a6-fd57-4f5015b0fc58"
      },
      "outputs": [
        {
          "name": "stdout",
          "output_type": "stream",
          "text": [
            "*  ibm_db_sa://tjk21224:***@19af6446-6171-4641-8aba-9dcff8e1b6ff.c1ogj3sd0tgtu0lqde00.databases.appdomain.cloud:30699/bludb\n",
            "Done.\n"
          ]
        },
        {
          "data": {
            "text/html": [
              "<table>\n",
              "    <tr>\n",
              "        <th>community_area_name</th>\n",
              "    </tr>\n",
              "    <tr>\n",
              "        <td>West Garfield Park</td>\n",
              "    </tr>\n",
              "    <tr>\n",
              "        <td>South Lawndale</td>\n",
              "    </tr>\n",
              "    <tr>\n",
              "        <td>Fuller Park</td>\n",
              "    </tr>\n",
              "    <tr>\n",
              "        <td>Riverdale</td>\n",
              "    </tr>\n",
              "</table>"
            ],
            "text/plain": [
              "[('West Garfield Park',),\n",
              " ('South Lawndale',),\n",
              " ('Fuller Park',),\n",
              " ('Riverdale',)]"
            ]
          },
          "execution_count": 8,
          "metadata": {},
          "output_type": "execute_result"
        }
      ],
      "source": [
        "%sql SELECT COMMUNITY_AREA_NAME FROM CENSUS_DATA WHERE PER_CAPITA_INCOME < 11000;"
      ]
    },
    {
      "cell_type": "markdown",
      "metadata": {
        "id": "3GjmydxcaSPn"
      },
      "source": [
        "\n",
        "\n",
        "##### Listing all case numbers for crimes  involving minors(children are not considered minors for the purposes of crime analysis)\n",
        "\n"
      ]
    },
    {
      "cell_type": "code",
      "execution_count": null,
      "metadata": {
        "id": "17ZPzlg6aSPo",
        "outputId": "dbe0c358-4df0-4b04-fc47-aba9c59a5050"
      },
      "outputs": [
        {
          "name": "stdout",
          "output_type": "stream",
          "text": [
            "*  ibm_db_sa://tjk21224:***@19af6446-6171-4641-8aba-9dcff8e1b6ff.c1ogj3sd0tgtu0lqde00.databases.appdomain.cloud:30699/bludb\n",
            "Done.\n"
          ]
        },
        {
          "data": {
            "text/html": [
              "<table>\n",
              "    <tr>\n",
              "        <th>case_number</th>\n",
              "    </tr>\n",
              "    <tr>\n",
              "        <td>HK238408</td>\n",
              "    </tr>\n",
              "    <tr>\n",
              "        <td>HL266884</td>\n",
              "    </tr>\n",
              "</table>"
            ],
            "text/plain": [
              "[('HK238408',), ('HL266884',)]"
            ]
          },
          "execution_count": 9,
          "metadata": {},
          "output_type": "execute_result"
        }
      ],
      "source": [
        "%sql SELECT DISTINCT CASE_NUMBER FROM CHICAGO_CRIME_DATA WHERE DESCRIPTION LIKE '%MINOR%'"
      ]
    },
    {
      "cell_type": "markdown",
      "metadata": {
        "id": "zYqjguw4aSPo"
      },
      "source": [
        "### Problem 4\n",
        "\n",
        "##### Listing all kidnapping crimes involving a child\n"
      ]
    },
    {
      "cell_type": "code",
      "execution_count": null,
      "metadata": {
        "id": "GYi_VQwZaSPo",
        "outputId": "501d28f6-fe74-419a-b3f9-2889517679a1"
      },
      "outputs": [
        {
          "name": "stdout",
          "output_type": "stream",
          "text": [
            "*  ibm_db_sa://tjk21224:***@19af6446-6171-4641-8aba-9dcff8e1b6ff.c1ogj3sd0tgtu0lqde00.databases.appdomain.cloud:30699/bludb\n",
            "Done.\n"
          ]
        },
        {
          "data": {
            "text/html": [
              "<table>\n",
              "    <tr>\n",
              "        <th>case_number</th>\n",
              "        <th>primary_type</th>\n",
              "        <th>DATE</th>\n",
              "        <th>description</th>\n",
              "    </tr>\n",
              "    <tr>\n",
              "        <td>HN144152</td>\n",
              "        <td>KIDNAPPING</td>\n",
              "        <td>2007-01-26</td>\n",
              "        <td>CHILD ABDUCTION/STRANGER</td>\n",
              "    </tr>\n",
              "</table>"
            ],
            "text/plain": [
              "[('HN144152', 'KIDNAPPING', datetime.date(2007, 1, 26), 'CHILD ABDUCTION/STRANGER')]"
            ]
          },
          "execution_count": 10,
          "metadata": {},
          "output_type": "execute_result"
        }
      ],
      "source": [
        "%sql SELECT DISTINCT CASE_NUMBER, PRIMARY_TYPE, DATE, DESCRIPTION FROM CHICAGO_CRIME_DATA \\\n",
        "WHERE PRIMARY_TYPE='KIDNAPPING'"
      ]
    },
    {
      "cell_type": "markdown",
      "metadata": {
        "id": "HPmgpcEkaSPo"
      },
      "source": [
        "\n",
        "\n",
        "##### kinds of crimes recorded at schools\n"
      ]
    },
    {
      "cell_type": "code",
      "execution_count": null,
      "metadata": {
        "id": "zkaRVkd6aSPo",
        "outputId": "00efefff-00b9-45d1-9ad9-32d15e0d2bca"
      },
      "outputs": [
        {
          "name": "stdout",
          "output_type": "stream",
          "text": [
            "*  ibm_db_sa://tjk21224:***@19af6446-6171-4641-8aba-9dcff8e1b6ff.c1ogj3sd0tgtu0lqde00.databases.appdomain.cloud:30699/bludb\n",
            "Done.\n"
          ]
        },
        {
          "data": {
            "text/html": [
              "<table>\n",
              "    <tr>\n",
              "        <th>primary_type</th>\n",
              "        <th>location_description</th>\n",
              "    </tr>\n",
              "    <tr>\n",
              "        <td>PUBLIC PEACE VI</td>\n",
              "        <td>SCHOOL, PRIVATE, BUILDING</td>\n",
              "    </tr>\n",
              "    <tr>\n",
              "        <td>BATTERY</td>\n",
              "        <td>SCHOOL, PUBLIC, BUILDING</td>\n",
              "    </tr>\n",
              "    <tr>\n",
              "        <td>NARCOTICS</td>\n",
              "        <td>SCHOOL, PUBLIC, BUILDING</td>\n",
              "    </tr>\n",
              "    <tr>\n",
              "        <td>PUBLIC PEACE VI</td>\n",
              "        <td>SCHOOL, PUBLIC, BUILDING</td>\n",
              "    </tr>\n",
              "    <tr>\n",
              "        <td>ASSAULT</td>\n",
              "        <td>SCHOOL, PUBLIC, GROUNDS</td>\n",
              "    </tr>\n",
              "    <tr>\n",
              "        <td>BATTERY</td>\n",
              "        <td>SCHOOL, PUBLIC, GROUNDS</td>\n",
              "    </tr>\n",
              "    <tr>\n",
              "        <td>CRIMINAL DAMAGE</td>\n",
              "        <td>SCHOOL, PUBLIC, GROUNDS</td>\n",
              "    </tr>\n",
              "    <tr>\n",
              "        <td>CRIMINAL TRESPA</td>\n",
              "        <td>SCHOOL, PUBLIC, GROUNDS</td>\n",
              "    </tr>\n",
              "    <tr>\n",
              "        <td>NARCOTICS</td>\n",
              "        <td>SCHOOL, PUBLIC, GROUNDS</td>\n",
              "    </tr>\n",
              "</table>"
            ],
            "text/plain": [
              "[('PUBLIC PEACE VI', 'SCHOOL, PRIVATE, BUILDING'),\n",
              " ('BATTERY', 'SCHOOL, PUBLIC, BUILDING'),\n",
              " ('NARCOTICS', 'SCHOOL, PUBLIC, BUILDING'),\n",
              " ('PUBLIC PEACE VI', 'SCHOOL, PUBLIC, BUILDING'),\n",
              " ('ASSAULT', 'SCHOOL, PUBLIC, GROUNDS'),\n",
              " ('BATTERY', 'SCHOOL, PUBLIC, GROUNDS'),\n",
              " ('CRIMINAL DAMAGE', 'SCHOOL, PUBLIC, GROUNDS'),\n",
              " ('CRIMINAL TRESPA', 'SCHOOL, PUBLIC, GROUNDS'),\n",
              " ('NARCOTICS', 'SCHOOL, PUBLIC, GROUNDS')]"
            ]
          },
          "execution_count": 13,
          "metadata": {},
          "output_type": "execute_result"
        }
      ],
      "source": [
        "%sql SELECT DISTINCT(PRIMARY_TYPE), LOCATION_DESCRIPTION FROM CHICAGO_CRIME_DATA \\\n",
        "WHERE LOCATION_DESCRIPTION LIKE '%SCHOOL%'"
      ]
    },
    {
      "cell_type": "markdown",
      "metadata": {
        "id": "Af7ajklYaSPp"
      },
      "source": [
        "\n",
        "\n",
        "##### List of average safety score for each type of school.\n"
      ]
    },
    {
      "cell_type": "code",
      "execution_count": null,
      "metadata": {
        "id": "KPNTTO8paSPp",
        "outputId": "5da0339f-5f79-4527-fb70-084372f60a31"
      },
      "outputs": [
        {
          "name": "stdout",
          "output_type": "stream",
          "text": [
            "*  ibm_db_sa://tjk21224:***@19af6446-6171-4641-8aba-9dcff8e1b6ff.c1ogj3sd0tgtu0lqde00.databases.appdomain.cloud:30699/bludb\n",
            "Done.\n"
          ]
        },
        {
          "data": {
            "text/html": [
              "<table>\n",
              "    <tr>\n",
              "        <th>Elementary, Middle, or High School</th>\n",
              "        <th>average_safety_score</th>\n",
              "    </tr>\n",
              "    <tr>\n",
              "        <td>ES</td>\n",
              "        <td>49</td>\n",
              "    </tr>\n",
              "    <tr>\n",
              "        <td>HS</td>\n",
              "        <td>49</td>\n",
              "    </tr>\n",
              "    <tr>\n",
              "        <td>MS</td>\n",
              "        <td>48</td>\n",
              "    </tr>\n",
              "</table>"
            ],
            "text/plain": [
              "[('ES', 49), ('HS', 49), ('MS', 48)]"
            ]
          },
          "execution_count": 19,
          "metadata": {},
          "output_type": "execute_result"
        }
      ],
      "source": [
        "%sql SELECT \"Elementary, Middle, or High School\", AVG(SAFETY_SCORE) AVERAGE_SAFETY_SCORE FROM CHICAGO_PUBLIC_SCHOOLS GROUP BY \"Elementary, Middle, or High School\";\n"
      ]
    },
    {
      "cell_type": "markdown",
      "metadata": {
        "id": "UufTpJ1oaSPp"
      },
      "source": [
        "\n",
        "\n",
        "#### 5 community areas with highest % of households below poverty line\n"
      ]
    },
    {
      "cell_type": "code",
      "execution_count": null,
      "metadata": {
        "id": "3ufnb7oCaSPp",
        "outputId": "1501633d-d28f-414a-b848-8881de2f08b2"
      },
      "outputs": [
        {
          "name": "stdout",
          "output_type": "stream",
          "text": [
            "*  ibm_db_sa://tjk21224:***@19af6446-6171-4641-8aba-9dcff8e1b6ff.c1ogj3sd0tgtu0lqde00.databases.appdomain.cloud:30699/bludb\n",
            "Done.\n"
          ]
        },
        {
          "data": {
            "text/html": [
              "<table>\n",
              "    <tr>\n",
              "        <th>community_area_name</th>\n",
              "        <th>percent_households_below_poverty</th>\n",
              "    </tr>\n",
              "    <tr>\n",
              "        <td>Riverdale</td>\n",
              "        <td>56.5</td>\n",
              "    </tr>\n",
              "    <tr>\n",
              "        <td>Fuller Park</td>\n",
              "        <td>51.2</td>\n",
              "    </tr>\n",
              "    <tr>\n",
              "        <td>Englewood</td>\n",
              "        <td>46.6</td>\n",
              "    </tr>\n",
              "    <tr>\n",
              "        <td>North Lawndale</td>\n",
              "        <td>43.1</td>\n",
              "    </tr>\n",
              "    <tr>\n",
              "        <td>East Garfield Park</td>\n",
              "        <td>42.4</td>\n",
              "    </tr>\n",
              "</table>"
            ],
            "text/plain": [
              "[('Riverdale', Decimal('56.5')),\n",
              " ('Fuller Park', Decimal('51.2')),\n",
              " ('Englewood', Decimal('46.6')),\n",
              " ('North Lawndale', Decimal('43.1')),\n",
              " ('East Garfield Park', Decimal('42.4'))]"
            ]
          },
          "execution_count": 20,
          "metadata": {},
          "output_type": "execute_result"
        }
      ],
      "source": [
        "%sql SELECT COMMUNITY_AREA_NAME, PERCENT_HOUSEHOLDS_BELOW_POVERTY FROM CENSUS_DATA ORDER BY PERCENT_HOUSEHOLDS_BELOW_POVERTY DESC LIMIT 5 ;\n"
      ]
    },
    {
      "cell_type": "markdown",
      "metadata": {
        "id": "gBc1TAvdaSPp"
      },
      "source": [
        "\n",
        "\n",
        "##### most crime prone ommunity area\n"
      ]
    },
    {
      "cell_type": "code",
      "execution_count": null,
      "metadata": {
        "id": "EQ2TZreQaSPq",
        "outputId": "1841e491-4275-4fa0-8015-fd7a6418344d"
      },
      "outputs": [
        {
          "name": "stdout",
          "output_type": "stream",
          "text": [
            "*  ibm_db_sa://tjk21224:***@19af6446-6171-4641-8aba-9dcff8e1b6ff.c1ogj3sd0tgtu0lqde00.databases.appdomain.cloud:30699/bludb\n",
            "Done.\n"
          ]
        },
        {
          "data": {
            "text/html": [
              "<table>\n",
              "    <tr>\n",
              "        <th>community_area_number</th>\n",
              "        <th>frequency</th>\n",
              "    </tr>\n",
              "    <tr>\n",
              "        <td>25</td>\n",
              "        <td>43</td>\n",
              "    </tr>\n",
              "</table>"
            ],
            "text/plain": [
              "[(25, 43)]"
            ]
          },
          "execution_count": 16,
          "metadata": {},
          "output_type": "execute_result"
        }
      ],
      "source": [
        "%%sql\n",
        "SELECT COMMUNITY_AREA_NUMBER ,COUNT(COMMUNITY_AREA_NUMBER) AS FREQUENCY\n",
        "FROM CHICAGO_CRIME_DATA\n",
        "GROUP BY COMMUNITY_AREA_NUMBER\n",
        "ORDER BY COUNT(COMMUNITY_AREA_NUMBER) DESC\n",
        "LIMIT 1;"
      ]
    },
    {
      "cell_type": "markdown",
      "metadata": {
        "id": "DQnxjgg5aSPq"
      },
      "source": [
        "\n",
        "\n",
        "##### Using a sub-query to find the name of the community area with highest hardship index\n"
      ]
    },
    {
      "cell_type": "code",
      "execution_count": null,
      "metadata": {
        "id": "7jdMYIrdaSPq",
        "outputId": "7e4887f3-67b3-4526-85b6-874087c244cf"
      },
      "outputs": [
        {
          "name": "stdout",
          "output_type": "stream",
          "text": [
            "*  ibm_db_sa://tjk21224:***@19af6446-6171-4641-8aba-9dcff8e1b6ff.c1ogj3sd0tgtu0lqde00.databases.appdomain.cloud:30699/bludb\n",
            "Done.\n"
          ]
        },
        {
          "data": {
            "text/html": [
              "<table>\n",
              "    <tr>\n",
              "        <th>community_area_name</th>\n",
              "    </tr>\n",
              "    <tr>\n",
              "        <td>Riverdale</td>\n",
              "    </tr>\n",
              "</table>"
            ],
            "text/plain": [
              "[('Riverdale',)]"
            ]
          },
          "execution_count": 18,
          "metadata": {},
          "output_type": "execute_result"
        }
      ],
      "source": [
        "%sql SELECT COMMUNITY_AREA_NAME FROM  CENSUS_DATA WHERE HARDSHIP_INDEX = (SELECT MAX(HARDSHIP_INDEX) FROM CENSUS_DATA);\n"
      ]
    },
    {
      "cell_type": "markdown",
      "metadata": {
        "id": "XGP17O6paSPq"
      },
      "source": [
        "\n",
        "\n",
        "##### Using a sub-query to determine the Community Area Name with most number of crimes\n"
      ]
    },
    {
      "cell_type": "code",
      "execution_count": null,
      "metadata": {
        "id": "692m2pczaSPq",
        "outputId": "50a8ec8d-dd08-4cb9-cbab-9244ad5aa705"
      },
      "outputs": [
        {
          "name": "stdout",
          "output_type": "stream",
          "text": [
            "*  ibm_db_sa://tjk21224:***@19af6446-6171-4641-8aba-9dcff8e1b6ff.c1ogj3sd0tgtu0lqde00.databases.appdomain.cloud:30699/bludb\n",
            "Done.\n"
          ]
        },
        {
          "data": {
            "text/html": [
              "<table>\n",
              "    <tr>\n",
              "        <th>community_area_name</th>\n",
              "    </tr>\n",
              "    <tr>\n",
              "        <td>Austin</td>\n",
              "    </tr>\n",
              "</table>"
            ],
            "text/plain": [
              "[('Austin',)]"
            ]
          },
          "execution_count": 17,
          "metadata": {},
          "output_type": "execute_result"
        }
      ],
      "source": [
        "%%sql\n",
        "SELECT community_area_name FROM CENSUS_DATA\n",
        "WHERE COMMUNITY_AREA_NUMBER = (SELECT COMMUNITY_AREA_NUMBER FROM CHICAGO_CRIME_DATA\n",
        "    GROUP BY COMMUNITY_AREA_NUMBER\n",
        "    ORDER BY COUNT(COMMUNITY_AREA_NUMBER) DESC\n",
        "    LIMIT 1)\n",
        "LIMIT 1;"
      ]
    }
  ],
  "metadata": {
    "kernelspec": {
      "display_name": "Python 3 (ipykernel)",
      "language": "python",
      "name": "python3"
    },
    "language_info": {
      "codemirror_mode": {
        "name": "ipython",
        "version": 3
      },
      "file_extension": ".py",
      "mimetype": "text/x-python",
      "name": "python",
      "nbconvert_exporter": "python",
      "pygments_lexer": "ipython3",
      "version": "3.9.12"
    },
    "colab": {
      "provenance": []
    }
  },
  "nbformat": 4,
  "nbformat_minor": 0
}